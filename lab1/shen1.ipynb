{
 "cells": [
  {
   "cell_type": "markdown",
   "source": [
    "# Результаты тестов HSV красного, желтого и зеленого цвета:\n",
    "\n",
    "<pre>\n",
    "<span style=\"font-size: 20px;\">\n",
    "1.Красный фонарь:\n",
    "  [ 10 170   4 175 172 168  21  25  27  15]\n",
    "  [176   2   4  11 169   8 167  17 163 132]\n",
    "  [ 12   4  10 167  29  26  24  20  17]\n",
    "  [176   6   4 170  26  20  22 164  17  13]\n",
    "\n",
    "2.Зелёный уличный фонарь:\n",
    "  [ 80  90  83  87 101  96 103 120 114 110]\n",
    "  [80 67 69 65 56 52 43 38 98 92]\n",
    "  [ 90  80  78  85  74  69  71 170 103  95]\n",
    "  [79 76 72 83 66 70 43 35 55 51]\n",
    "\n",
    "3.Жёлтый уличный фонарь:\n",
    "  [30 13 24 17 26 20 15  7  4 22]\n",
    "  [ 30   9   2  22   5 174  15 178 170  17]\n",
    "  [30 18 23 13  7  4]\n",
    "  [ 30 174 170   5 177 167 159 164  10   8]\n",
    "</span>\n",
    "</pre>"
   ],
   "metadata": {
    "collapsed": false
   },
   "id": "fb0a5f68084b318d"
  },
  {
   "cell_type": "markdown",
   "source": [
    "\n",
    "<span style=\"font-size: 20px;\">Импорт в библиотеку, чтение изображений и преобразование в HSV изображения.</span> \n"
   ],
   "metadata": {
    "collapsed": false
   },
   "id": "5cbec0b6e93c6186"
  },
  {
   "cell_type": "code",
   "execution_count": 103,
   "outputs": [],
   "source": [
    "import cv2 as cv\n",
    "import numpy as np\n",
    "import os\n",
    "\n",
    "my_path = \"D:/Projects/Pycharm_projects/CV/lab01/tlights\"\n",
    "my_img = []\n",
    "\n",
    "# Просмотр изображений в папке\n",
    "for i in os.listdir(my_path):\n",
    "    if i.endswith(\".jpg\"):\n",
    "        img_path = os.path.join(my_path, i)\n",
    "        my_img.append(img_path)\n",
    "\n",
    "# Конвертация изображений\n",
    "images_bgr = []\n",
    "images_rgb = []\n",
    "images_hsv = []\n",
    "\n",
    "for img_path in my_img:\n",
    "    img_bgr = cv.imread(img_path)\n",
    "    img_rgb = cv.cvtColor(img_bgr, cv.COLOR_BGR2RGB)\n",
    "    img_hsv = cv.cvtColor(img_rgb, cv.COLOR_RGB2HSV)\n",
    "    \n",
    "    images_bgr.append(img_bgr)\n",
    "    images_rgb.append(img_rgb)\n",
    "    images_hsv.append(img_hsv)\n"
   ],
   "metadata": {
    "collapsed": false,
    "ExecuteTime": {
     "end_time": "2024-09-18T05:45:04.860891600Z",
     "start_time": "2024-09-18T05:45:04.818491500Z"
    }
   },
   "id": "1b317e9dcd28c443"
  },
  {
   "cell_type": "code",
   "execution_count": 104,
   "outputs": [],
   "source": [
    "# Сохранить результаты классификации\n",
    "red_images = []\n",
    "green_images = []\n",
    "yellow_images = []\n",
    "unknown_images = []\n",
    "\n",
    "# Обработка и классификация\n",
    "for i, img_hsv in enumerate(images_hsv):\n",
    "    # Создать маску\n",
    "    # Красная маска\n",
    "    low_red = np.array([0, 80,20])\n",
    "    up_red = np.array([12, 200, 220])\n",
    "    red_mask_low = (img_hsv[:,:,0] >= low_red[0]) & \\\n",
    "                   (img_hsv[:,:,0] <= up_red[0]) & \\\n",
    "                   (img_hsv[:,:,1] >= low_red[1]) & \\\n",
    "                   (img_hsv[:,:,1] <= up_red[1]) & \\\n",
    "                   (img_hsv[:,:,2] >= low_red[2]) & \\\n",
    "                   (img_hsv[:,:,2] <= up_red[2])\n",
    "\n",
    "    low_red = np.array([163, 80, 20])\n",
    "    up_red = np.array([179, 255, 255])\n",
    "    red_mask_high = (img_hsv[:,:,0] >= low_red[0]) & \\\n",
    "                    (img_hsv[:,:,0] <= up_red[0]) & \\\n",
    "                    (img_hsv[:,:,1] >= low_red[1]) & \\\n",
    "                    (img_hsv[:,:,1] <= up_red[1]) & \\\n",
    "                    (img_hsv[:,:,2] >= low_red[2]) & \\\n",
    "                    (img_hsv[:,:,2] <= up_red[2])\n",
    "\n",
    "    red_mask = red_mask_low | red_mask_high\n",
    "    red_pixels = np.sum(red_mask)\n",
    "\n",
    "    # Зеленая маска\n",
    "    low_green = np.array([43, 100,120])\n",
    "    up_green = np.array([90, 255, 255])\n",
    "    green_mask = (img_hsv[:,:,0] >= low_green[0]) & \\\n",
    "                 (img_hsv[:,:,0] <= up_green[0]) & \\\n",
    "                 (img_hsv[:,:,1] >= low_green[1]) & \\\n",
    "                 (img_hsv[:,:,1] <= up_green[1]) & \\\n",
    "                 (img_hsv[:,:,2] >= low_green[2]) & \\\n",
    "                 (img_hsv[:,:,2] <= up_green[2])\n",
    "    green_pixels = np.sum(green_mask)\n",
    "    \n",
    "    # Жёлтая маска\n",
    "    low_yellow = np.array([18,80, 110])\n",
    "    up_yellow = np.array([33, 230, 255])\n",
    "    yellow_mask = (img_hsv[:,:,0] >= low_yellow[0]) & \\\n",
    "                  (img_hsv[:,:,0] <= up_yellow[0]) & \\\n",
    "                  (img_hsv[:,:,1] >= low_yellow[1]) & \\\n",
    "                  (img_hsv[:,:,1] <= up_yellow[1]) & \\\n",
    "                  (img_hsv[:,:,2] >= low_yellow[2]) & \\\n",
    "                  (img_hsv[:,:,2] <= up_yellow[2])\n",
    "    yellow_pixels = np.sum(yellow_mask)\n",
    "\n",
    "    # Классификация: количество пикселей в каком цвете больше, чем в каком цветовом файле\n",
    "    if red_pixels > green_pixels and red_pixels > yellow_pixels:\n",
    "        red_images.append(my_img[i])\n",
    "    elif green_pixels > red_pixels and green_pixels > yellow_pixels:\n",
    "        green_images.append(my_img[i])\n",
    "    elif yellow_pixels > red_pixels and yellow_pixels > green_pixels:\n",
    "        yellow_images.append(my_img[i])\n",
    "    else:\n",
    "        unknown_images.append(my_img[i])\n",
    "\n"
   ],
   "metadata": {
    "collapsed": false,
    "ExecuteTime": {
     "end_time": "2024-09-18T05:45:04.912334900Z",
     "start_time": "2024-09-18T05:45:04.867428900Z"
    }
   },
   "id": "97712d0ed46a7952"
  },
  {
   "cell_type": "code",
   "execution_count": 105,
   "outputs": [
    {
     "name": "stdout",
     "output_type": "stream",
     "text": [
      "Everything is ok!\n"
     ]
    }
   ],
   "source": [
    "# Сохранить результаты\n",
    "with open(\"red.txt\", \"w\") as red_file:\n",
    "    for red_img in red_images:\n",
    "        red_file.write(red_img + \"\\n\")\n",
    "\n",
    "with open(\"green.txt\", \"w\") as green_file:\n",
    "    for green_img in green_images:\n",
    "        green_file.write(green_img + \"\\n\")\n",
    "\n",
    "with open(\"yellow.txt\", \"w\") as yellow_file:\n",
    "    for yellow_img in yellow_images:\n",
    "        yellow_file.write(yellow_img + \"\\n\")\n",
    "\n",
    "print('Everything is ok!')"
   ],
   "metadata": {
    "collapsed": false,
    "ExecuteTime": {
     "end_time": "2024-09-18T05:45:04.920283700Z",
     "start_time": "2024-09-18T05:45:04.914336700Z"
    }
   },
   "id": "d6fd2133f49c2ffd"
  }
 ],
 "metadata": {
  "kernelspec": {
   "display_name": "Python 3",
   "language": "python",
   "name": "python3"
  },
  "language_info": {
   "codemirror_mode": {
    "name": "ipython",
    "version": 2
   },
   "file_extension": ".py",
   "mimetype": "text/x-python",
   "name": "python",
   "nbconvert_exporter": "python",
   "pygments_lexer": "ipython2",
   "version": "2.7.6"
  }
 },
 "nbformat": 4,
 "nbformat_minor": 5
}
